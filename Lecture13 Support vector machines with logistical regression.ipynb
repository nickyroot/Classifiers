{
 "cells": [
  {
   "cell_type": "code",
   "execution_count": 1,
   "metadata": {
    "collapsed": true
   },
   "outputs": [],
   "source": [
    "from pandas import DataFrame, read_csv\n",
    "from sklearn import svm, datasets, metrics\n",
    "import numpy as np\n",
    "import matplotlib.pyplot as plt"
   ]
  },
  {
   "cell_type": "code",
   "execution_count": 8,
   "metadata": {
    "collapsed": false
   },
   "outputs": [],
   "source": [
    "mammals = read_csv('mammals.csv').sort('body')\n",
    "lm = svm.SVR(kernel='linear', C=1e1)\n",
    "lm_rbf = svm.SVR(kernel='rbf', C=1e1)"
   ]
  },
  {
   "cell_type": "code",
   "execution_count": 10,
   "metadata": {
    "collapsed": false
   },
   "outputs": [],
   "source": [
    "body = mammals[ ['body'] ].values\n",
    "brain = mammals.brain.values\n",
    "\n",
    "lm.fit(body, brain)\n",
    "lm_rbf.fit(np.log(body), np.log(brain))\n",
    "\n",
    "## Compare to the original log fit model, as well as other svm kernals\n",
    "\n",
    "from sklearn.linear_model import LinearRegression\n",
    "\n",
    "logfit = LinearRegression().fit(np.log(body), np.log(brain))\n",
    "mammals['log_regr'] = np.exp(logfit.predict(np.log(body)))\n",
    "mammals['linear_svm'] = lm.predict(body)\n",
    "mammals['rbf_svm'] = np.exp(lm_rbf.predict(np.log(body)))"
   ]
  },
  {
   "cell_type": "code",
   "execution_count": null,
   "metadata": {
    "collapsed": true
   },
   "outputs": [],
   "source": [
    "## NOW, print the dataframe and see how it goes!\n",
    "\n",
    "plt.scatter(body, brain)\n",
    "plt.plot(body, mammals['linear_svm'].values, c='r',label='linear svm')\n",
    "plt.plot(body, mammals['rbf_svm'].values, c='g', label='gaussian svm')\n",
    "plt.plot(body, mammals['log_regr'].values, c='b', label='linear regression')\n",
    "\n",
    "plt.xlabel('data')\n",
    "plt.ylabel('target')\n",
    "plt.title('Support Vector Regression')\n",
    "plt.legend(loc=2)\n",
    "plt.show()\n",
    "\n",
    "\n",
    "for prediction in ('linear_svm', 'rbf_svm', 'log_regr'):\n",
    "    print'Mean Squared Error for', prediction, ':', metrics.mean_squared_error(mammals[ [prediction] ].values, mammals[ ['brain'] ].values)\n",
    "    print'R-Squared for', prediction, ':',metrics.r2_score(mammals[ [prediction] ].values, mammals[['brain'] ].values)"
   ]
  },
  {
   "cell_type": "code",
   "execution_count": null,
   "metadata": {
    "collapsed": true
   },
   "outputs": [],
   "source": []
  }
 ],
 "metadata": {
  "kernelspec": {
   "display_name": "Python 2",
   "language": "python",
   "name": "python2"
  },
  "language_info": {
   "codemirror_mode": {
    "name": "ipython",
    "version": 2
   },
   "file_extension": ".py",
   "mimetype": "text/x-python",
   "name": "python",
   "nbconvert_exporter": "python",
   "pygments_lexer": "ipython2",
   "version": "2.7.10"
  }
 },
 "nbformat": 4,
 "nbformat_minor": 0
}
