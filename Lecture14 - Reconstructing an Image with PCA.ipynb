{
 "cells": [
  {
   "cell_type": "code",
   "execution_count": 1,
   "metadata": {
    "collapsed": false
   },
   "outputs": [
    {
     "name": "stdout",
     "output_type": "stream",
     "text": [
      "Populating the interactive namespace from numpy and matplotlib\n"
     ]
    }
   ],
   "source": [
    "get_ipython().magic(u'pylab inline')\n",
    "from sklearn import decomposition\n",
    "import numpy as np\n",
    "from numpy import mean, size"
   ]
  },
  {
   "cell_type": "code",
   "execution_count": 2,
   "metadata": {
    "collapsed": true
   },
   "outputs": [],
   "source": [
    "#get_ipython().magic(u'pinfo matplotlib.image.imread')"
   ]
  },
  {
   "cell_type": "code",
   "execution_count": 5,
   "metadata": {
    "collapsed": false
   },
   "outputs": [
    {
     "data": {
      "text/plain": [
       "(152, 152, 4)"
      ]
     },
     "execution_count": 5,
     "metadata": {},
     "output_type": "execute_result"
    }
   ],
   "source": [
    "# Let us read an image \n",
    "A = imread(r'pi_image.png')\n",
    "shape(A)"
   ]
  },
  {
   "cell_type": "code",
   "execution_count": 4,
   "metadata": {
    "collapsed": false
   },
   "outputs": [
    {
     "name": "stdout",
     "output_type": "stream",
     "text": [
      "/Users/nickroot/Downloads\n"
     ]
    }
   ],
   "source": [
    "cd /Users/nickroot/downloads"
   ]
  },
  {
   "cell_type": "code",
   "execution_count": 6,
   "metadata": {
    "collapsed": false
   },
   "outputs": [
    {
     "data": {
      "text/plain": [
       "(152, 152)"
      ]
     },
     "execution_count": 6,
     "metadata": {},
     "output_type": "execute_result"
    }
   ],
   "source": [
    "# remember that images are made up of 3 colour layers. This just takes the mean of all the layers\n",
    "A1 = mean(A,2)\n",
    "shape(A1)"
   ]
  },
  {
   "cell_type": "code",
   "execution_count": 7,
   "metadata": {
    "collapsed": false
   },
   "outputs": [
    {
     "data": {
      "text/plain": [
       "(152, 152)"
      ]
     },
     "execution_count": 7,
     "metadata": {},
     "output_type": "execute_result"
    }
   ],
   "source": [
    "# this looks at layer 1 (there are 3 colour layers and 1 transparency layer)\n",
    "A2 = A[:,:,1]\n",
    "shape(A2)"
   ]
  },
  {
   "cell_type": "code",
   "execution_count": 8,
   "metadata": {
    "collapsed": false
   },
   "outputs": [
    {
     "name": "stdout",
     "output_type": "stream",
     "text": [
      "152\n"
     ]
    }
   ],
   "source": [
    "# Check the full number of PCs\n",
    "full_pc = size(A1, axis=1)\n",
    "print full_pc"
   ]
  },
  {
   "cell_type": "code",
   "execution_count": 9,
   "metadata": {
    "collapsed": true
   },
   "outputs": [],
   "source": [
    "i=1\n",
    "dist=[]"
   ]
  },
  {
   "cell_type": "code",
   "execution_count": 10,
   "metadata": {
    "collapsed": false
   },
   "outputs": [
    {
     "data": {
      "image/png": "[encoded data removed]",
      "text/plain": [
       "<matplotlib.figure.Figure at 0x109eca110>"
      ]
     },
     "metadata": {},
     "output_type": "display_data"
    }
   ],
   "source": [
    "for numpc in range(0,full_pc+10, 10):\n",
    "    if numpc > full_pc:\n",
    "        break\n",
    "        pca = decomposition.PCA(n_components=numpc)\n",
    "        pca.fit(A2)\n",
    "        \n",
    "        Rec = pca.inverse_transform(pca.transform(A2))\n",
    "        # showing the pics reconstructed with less than 50 PC\n",
    "        if numpc<=50:\n",
    "            ax = subplot(2,3,i,frame_on=False)\n",
    "            ax.xaxis.set_major_locator(NullLocator()) # remove ticks\n",
    "            ax.yaxis.set_major_locator(NullLocator())\n",
    "            i += 1\n",
    "            imshow(Rec)\n",
    "            title('PCs #' + str(numpc))\n",
    "            gray()\n",
    "            \n",
    "# Let us see the full image\n",
    "\n",
    "figure()\n",
    "imshow(A2)\n",
    "title('numpc Full')\n",
    "gray()\n",
    "show()"
   ]
  },
  {
   "cell_type": "code",
   "execution_count": null,
   "metadata": {
    "collapsed": true
   },
   "outputs": [],
   "source": []
  }
 ],
 "metadata": {
  "kernelspec": {
   "display_name": "Python 2",
   "language": "python",
   "name": "python2"
  },
  "language_info": {
   "codemirror_mode": {
    "name": "ipython",
    "version": 2
   },
   "file_extension": ".py",
   "mimetype": "text/x-python",
   "name": "python",
   "nbconvert_exporter": "python",
   "pygments_lexer": "ipython2",
   "version": "2.7.10"
  }
 },
 "nbformat": 4,
 "nbformat_minor": 0
}
